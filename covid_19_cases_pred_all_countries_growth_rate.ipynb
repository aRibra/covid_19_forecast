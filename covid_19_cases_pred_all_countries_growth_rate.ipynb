{
 "cells": [
  {
   "cell_type": "code",
   "execution_count": 2,
   "metadata": {
    "_cell_guid": "b1076dfc-b9ad-4769-8c92-a6c4dae69d19",
    "_uuid": "8f2839f25d086af736a60e9eeb907d3b93b6e0e5"
   },
   "outputs": [],
   "source": [
    "import numpy as np\n",
    "import pandas as pd\n",
    "\n",
    "import os\n",
    "for dirname, _, filenames in os.walk('/kaggle/input'):\n",
    "    for filename in filenames:\n",
    "        print(os.path.join(dirname, filename))"
   ]
  },
  {
   "cell_type": "code",
   "execution_count": 3,
   "metadata": {
    "_cell_guid": "79c7e3d0-c299-4dcb-8224-4455121ee9b0",
    "_uuid": "d629ff2d2480ee46fbb7e2d37f6b5fab8052498a"
   },
   "outputs": [
    {
     "data": {
      "text/html": [
       "<div>\n",
       "<style scoped>\n",
       "    .dataframe tbody tr th:only-of-type {\n",
       "        vertical-align: middle;\n",
       "    }\n",
       "\n",
       "    .dataframe tbody tr th {\n",
       "        vertical-align: top;\n",
       "    }\n",
       "\n",
       "    .dataframe thead th {\n",
       "        text-align: right;\n",
       "    }\n",
       "</style>\n",
       "<table border=\"1\" class=\"dataframe\">\n",
       "  <thead>\n",
       "    <tr style=\"text-align: right;\">\n",
       "      <th></th>\n",
       "      <th>Province/State</th>\n",
       "      <th>Country/Region</th>\n",
       "      <th>Lat</th>\n",
       "      <th>Long</th>\n",
       "      <th>1/22/20</th>\n",
       "      <th>1/23/20</th>\n",
       "      <th>1/24/20</th>\n",
       "      <th>1/25/20</th>\n",
       "      <th>1/26/20</th>\n",
       "      <th>1/27/20</th>\n",
       "      <th>...</th>\n",
       "      <th>3/17/20</th>\n",
       "      <th>3/18/20</th>\n",
       "      <th>3/19/20</th>\n",
       "      <th>3/20/20</th>\n",
       "      <th>3/21/20</th>\n",
       "      <th>3/22/20</th>\n",
       "      <th>3/23/20</th>\n",
       "      <th>3/24/20</th>\n",
       "      <th>3/25/20</th>\n",
       "      <th>3/26/20</th>\n",
       "    </tr>\n",
       "  </thead>\n",
       "  <tbody>\n",
       "    <tr>\n",
       "      <th>0</th>\n",
       "      <td>NaN</td>\n",
       "      <td>Afghanistan</td>\n",
       "      <td>33.0000</td>\n",
       "      <td>65.0000</td>\n",
       "      <td>0</td>\n",
       "      <td>0</td>\n",
       "      <td>0</td>\n",
       "      <td>0</td>\n",
       "      <td>0</td>\n",
       "      <td>0</td>\n",
       "      <td>...</td>\n",
       "      <td>22</td>\n",
       "      <td>22</td>\n",
       "      <td>22</td>\n",
       "      <td>24</td>\n",
       "      <td>24</td>\n",
       "      <td>40</td>\n",
       "      <td>40</td>\n",
       "      <td>74</td>\n",
       "      <td>84</td>\n",
       "      <td>94</td>\n",
       "    </tr>\n",
       "    <tr>\n",
       "      <th>1</th>\n",
       "      <td>NaN</td>\n",
       "      <td>Albania</td>\n",
       "      <td>41.1533</td>\n",
       "      <td>20.1683</td>\n",
       "      <td>0</td>\n",
       "      <td>0</td>\n",
       "      <td>0</td>\n",
       "      <td>0</td>\n",
       "      <td>0</td>\n",
       "      <td>0</td>\n",
       "      <td>...</td>\n",
       "      <td>55</td>\n",
       "      <td>59</td>\n",
       "      <td>64</td>\n",
       "      <td>70</td>\n",
       "      <td>76</td>\n",
       "      <td>89</td>\n",
       "      <td>104</td>\n",
       "      <td>123</td>\n",
       "      <td>146</td>\n",
       "      <td>174</td>\n",
       "    </tr>\n",
       "    <tr>\n",
       "      <th>2</th>\n",
       "      <td>NaN</td>\n",
       "      <td>Algeria</td>\n",
       "      <td>28.0339</td>\n",
       "      <td>1.6596</td>\n",
       "      <td>0</td>\n",
       "      <td>0</td>\n",
       "      <td>0</td>\n",
       "      <td>0</td>\n",
       "      <td>0</td>\n",
       "      <td>0</td>\n",
       "      <td>...</td>\n",
       "      <td>60</td>\n",
       "      <td>74</td>\n",
       "      <td>87</td>\n",
       "      <td>90</td>\n",
       "      <td>139</td>\n",
       "      <td>201</td>\n",
       "      <td>230</td>\n",
       "      <td>264</td>\n",
       "      <td>302</td>\n",
       "      <td>367</td>\n",
       "    </tr>\n",
       "    <tr>\n",
       "      <th>3</th>\n",
       "      <td>NaN</td>\n",
       "      <td>Andorra</td>\n",
       "      <td>42.5063</td>\n",
       "      <td>1.5218</td>\n",
       "      <td>0</td>\n",
       "      <td>0</td>\n",
       "      <td>0</td>\n",
       "      <td>0</td>\n",
       "      <td>0</td>\n",
       "      <td>0</td>\n",
       "      <td>...</td>\n",
       "      <td>39</td>\n",
       "      <td>39</td>\n",
       "      <td>53</td>\n",
       "      <td>75</td>\n",
       "      <td>88</td>\n",
       "      <td>113</td>\n",
       "      <td>133</td>\n",
       "      <td>164</td>\n",
       "      <td>188</td>\n",
       "      <td>224</td>\n",
       "    </tr>\n",
       "    <tr>\n",
       "      <th>4</th>\n",
       "      <td>NaN</td>\n",
       "      <td>Angola</td>\n",
       "      <td>-11.2027</td>\n",
       "      <td>17.8739</td>\n",
       "      <td>0</td>\n",
       "      <td>0</td>\n",
       "      <td>0</td>\n",
       "      <td>0</td>\n",
       "      <td>0</td>\n",
       "      <td>0</td>\n",
       "      <td>...</td>\n",
       "      <td>0</td>\n",
       "      <td>0</td>\n",
       "      <td>0</td>\n",
       "      <td>1</td>\n",
       "      <td>2</td>\n",
       "      <td>2</td>\n",
       "      <td>3</td>\n",
       "      <td>3</td>\n",
       "      <td>3</td>\n",
       "      <td>4</td>\n",
       "    </tr>\n",
       "  </tbody>\n",
       "</table>\n",
       "<p>5 rows × 69 columns</p>\n",
       "</div>"
      ],
      "text/plain": [
       "  Province/State Country/Region      Lat     Long  1/22/20  1/23/20  1/24/20  \\\n",
       "0            NaN    Afghanistan  33.0000  65.0000        0        0        0   \n",
       "1            NaN        Albania  41.1533  20.1683        0        0        0   \n",
       "2            NaN        Algeria  28.0339   1.6596        0        0        0   \n",
       "3            NaN        Andorra  42.5063   1.5218        0        0        0   \n",
       "4            NaN         Angola -11.2027  17.8739        0        0        0   \n",
       "\n",
       "   1/25/20  1/26/20  1/27/20  ...  3/17/20  3/18/20  3/19/20  3/20/20  \\\n",
       "0        0        0        0  ...       22       22       22       24   \n",
       "1        0        0        0  ...       55       59       64       70   \n",
       "2        0        0        0  ...       60       74       87       90   \n",
       "3        0        0        0  ...       39       39       53       75   \n",
       "4        0        0        0  ...        0        0        0        1   \n",
       "\n",
       "   3/21/20  3/22/20  3/23/20  3/24/20  3/25/20  3/26/20  \n",
       "0       24       40       40       74       84       94  \n",
       "1       76       89      104      123      146      174  \n",
       "2      139      201      230      264      302      367  \n",
       "3       88      113      133      164      188      224  \n",
       "4        2        2        3        3        3        4  \n",
       "\n",
       "[5 rows x 69 columns]"
      ]
     },
     "execution_count": 3,
     "metadata": {},
     "output_type": "execute_result"
    }
   ],
   "source": [
    "data = pd.read_csv('/home/ibrahim/Desktop/covid-19/time_series_covid_19_confirmed.csv')\n",
    "data.head()"
   ]
  },
  {
   "cell_type": "markdown",
   "metadata": {},
   "source": [
    "### US"
   ]
  },
  {
   "cell_type": "code",
   "execution_count": 676,
   "metadata": {},
   "outputs": [],
   "source": [
    "nums = data[data['Country/Region']=='US'].sum().drop(['Province/State','Country/Region','Lat','Long'])\n",
    "#nums = data[data['Country/Region']=='US'].sum().drop(['Lat','Long'])"
   ]
  },
  {
   "cell_type": "code",
   "execution_count": 677,
   "metadata": {},
   "outputs": [],
   "source": [
    "y = data[data['Country/Region']=='US'].sum().drop(['Province/State','Country/Region','Lat','Long']).tolist()\n",
    "x = range(len(y))"
   ]
  },
  {
   "cell_type": "markdown",
   "metadata": {},
   "source": [
    "### All Countries"
   ]
  },
  {
   "cell_type": "code",
   "execution_count": 4,
   "metadata": {},
   "outputs": [],
   "source": [
    "nums = data[:].sum().drop(['Lat','Long'])\n",
    "#nums = data[data['Country/Region']=='US'].sum().drop(['Lat','Long'])\n",
    "\n",
    "y = data[:].sum().drop(['Lat','Long']).tolist()\n",
    "x = range(len(y))"
   ]
  },
  {
   "cell_type": "code",
   "execution_count": 654,
   "metadata": {},
   "outputs": [
    {
     "data": {
      "image/png": "[encoded data removed]",
      "text/plain": [
       "<Figure size 1080x360 with 1 Axes>"
      ]
     },
     "metadata": {
      "needs_background": "light"
     },
     "output_type": "display_data"
    }
   ],
   "source": [
    "import matplotlib.pyplot as plt\n",
    "import seaborn as sns\n",
    "figure(figsize=(15,5))\n",
    "plt.plot(nums)\n",
    "plt.xticks(rotation=90)\n",
    "plt.ylabel('Cases')\n",
    "plt.title(\"All Countries Coronavirus Cases up to March 26th\")\n",
    "plt.show()"
   ]
  },
  {
   "cell_type": "code",
   "execution_count": null,
   "metadata": {},
   "outputs": [],
   "source": []
  },
  {
   "cell_type": "code",
   "execution_count": null,
   "metadata": {},
   "outputs": [],
   "source": []
  },
  {
   "cell_type": "markdown",
   "metadata": {},
   "source": [
    "# InfectionRateNet "
   ]
  },
  {
   "cell_type": "code",
   "execution_count": 668,
   "metadata": {},
   "outputs": [],
   "source": [
    "import torch\n",
    "from torch import nn\n",
    "import numpy as np\n",
    "import copy\n",
    "from pylab import *\n",
    "from torch.autograd import Variable\n"
   ]
  },
  {
   "cell_type": "code",
   "execution_count": 745,
   "metadata": {},
   "outputs": [
    {
     "name": "stdout",
     "output_type": "stream",
     "text": [
      "0 / Loss= 5.9130726\n",
      "10000 / Loss= 2.8467593\n",
      "20000 / Loss= 2.6814127\n",
      "30000 / Loss= 2.516191\n",
      "40000 / Loss= 2.351446\n",
      "50000 / Loss= 2.187041\n",
      "60000 / Loss= 2.022831\n",
      "70000 / Loss= 1.85905\n",
      "80000 / Loss= 1.6963431\n",
      "90000 / Loss= 1.5339948\n",
      "100000 / Loss= 1.3729833\n",
      "110000 / Loss= 1.2126013\n",
      "120000 / Loss= 1.0537555\n",
      "130000 / Loss= 0.9015825\n",
      "140000 / Loss= 0.7644032\n",
      "150000 / Loss= 0.6454605\n",
      "160000 / Loss= 0.5461366\n",
      "170000 / Loss= 0.4645129\n",
      "180000 / Loss= 0.39918634\n",
      "190000 / Loss= 0.34884906\n",
      "200000 / Loss= 0.30986372\n",
      "210000 / Loss= 0.2795045\n",
      "220000 / Loss= 0.2561212\n",
      "230000 / Loss= 0.23861933\n",
      "240000 / Loss= 0.22601055\n",
      "250000 / Loss= 0.21727188\n",
      "260000 / Loss= 0.2112024\n",
      "270000 / Loss= 0.20702767\n",
      "280000 / Loss= 0.2040784\n",
      "290000 / Loss= 0.20198832\n",
      "300000 / Loss= 0.20053089\n",
      "310000 / Loss= 0.1995479\n",
      "320000 / Loss= 0.19877975\n",
      "330000 / Loss= 0.19832428\n",
      "340000 / Loss= 0.1979535\n",
      "350000 / Loss= 0.19764307\n",
      "360000 / Loss= 0.1974958\n",
      "370000 / Loss= 0.19738017\n",
      "380000 / Loss= 0.1972796\n",
      "390000 / Loss= 0.19719411\n",
      "400000 / Loss= 0.19712374\n",
      "410000 / Loss= 0.1970685\n",
      "420000 / Loss= 0.19706154\n",
      "430000 / Loss= 0.19706154\n",
      "440000 / Loss= 0.19706154\n"
     ]
    }
   ],
   "source": [
    "\n",
    "features = np.expand_dims(np.arange(65), 1) + 1\n",
    "features = features.astype(np.float)\n",
    "\n",
    "y = data[:].sum().drop(['Lat','Long']).tolist()\n",
    "\n",
    "targets = np.expand_dims(np.array(y), 1)\n",
    "targets = targets.astype(np.float)\n",
    "\n",
    "fstd = np.std(features.flatten())\n",
    "fmean = np.mean(features.flatten())\n",
    "\n",
    "\n",
    "x = Variable(torch.from_numpy(features))\n",
    "x = x.type(torch.FloatTensor)\n",
    "\n",
    "y = Variable(torch.from_numpy(targets))\n",
    "y = y.type(torch.FloatTensor)\n",
    "\n",
    "y = torch.log(y)\n",
    "\n",
    "tstd = torch.std(y)\n",
    "tmean = torch.mean(y)\n",
    "\n",
    "# x = (x - fmean) / fstd\n",
    "# y = (y - tmean) / tstd\n",
    "\n",
    "class InfectionRateNet(torch.nn.Module):\n",
    "    def __init__(self):\n",
    "        super(InfectionRateNet, self).__init__()\n",
    "        self.fc = nn.Linear(1,1)\n",
    "        \n",
    "    def forward(self, x):\n",
    "        x = self.fc(x)\n",
    "        return x\n",
    "\n",
    "net = InfectionRateNet()\n",
    "\n",
    "lr=0.0001  #0.0001\n",
    "epochs = 450_000\n",
    "\n",
    "\n",
    "optimizer = torch.optim.SGD(net.parameters(), lr=lr)\n",
    "# criterion = torch.nn.L1Loss()\n",
    "criterion = torch.nn.SmoothL1Loss() \n",
    "\n",
    "\n",
    "for t in range(epochs):\n",
    "    y_hat = net(x)\n",
    "\n",
    "    loss = criterion(y_hat, y)\n",
    "\n",
    "    optimizer.zero_grad()\n",
    "    loss.backward()\n",
    "    optimizer.step()\n",
    "        \n",
    "    if t%10000 == 0:\n",
    "        print(t, '/ Loss=', loss.data.numpy())\n",
    "    "
   ]
  },
  {
   "cell_type": "code",
   "execution_count": 754,
   "metadata": {},
   "outputs": [],
   "source": [
    "model_state = {\n",
    "        'state_dict': net.state_dict(),\n",
    "    }\n",
    "       \n",
    "chkpnt_path = 'covid19_cases_pred_net_growth_rate.pth'\n",
    "torch.save(model_state, chkpnt_path)"
   ]
  },
  {
   "cell_type": "markdown",
   "metadata": {},
   "source": [
    "# Eval"
   ]
  },
  {
   "cell_type": "code",
   "execution_count": 747,
   "metadata": {},
   "outputs": [
    {
     "data": {
      "text/plain": [
       "<bound method Module.children of InfectionRateNet(\n",
       "  (fc): Linear(in_features=1, out_features=1, bias=True)\n",
       ")>"
      ]
     },
     "execution_count": 747,
     "metadata": {},
     "output_type": "execute_result"
    }
   ],
   "source": [
    "# net_eval = copy.deepcopy(net)\n",
    "net_eval = net.eval()\n",
    "\n",
    "for p in net_eval.parameters():\n",
    "    p.requires_grad = False\n",
    "    \n",
    "net.children"
   ]
  },
  {
   "cell_type": "code",
   "execution_count": 671,
   "metadata": {},
   "outputs": [
    {
     "data": {
      "text/plain": [
       "(Parameter containing:\n",
       " tensor([4.8468], dtype=torch.float64),\n",
       " Parameter containing:\n",
       " tensor([1.1185], dtype=torch.float64))"
      ]
     },
     "execution_count": 671,
     "metadata": {},
     "output_type": "execute_result"
    }
   ],
   "source": [
    "# net.a, net.b"
   ]
  },
  {
   "cell_type": "code",
   "execution_count": 748,
   "metadata": {},
   "outputs": [
    {
     "name": "stdout",
     "output_type": "stream",
     "text": [
      "Parameter containing:\n",
      "tensor([[0.0684]])\n",
      "Parameter containing:\n",
      "tensor([8.6767])\n"
     ]
    }
   ],
   "source": [
    "for p in net_eval.parameters():\n",
    "    print(p)"
   ]
  },
  {
   "cell_type": "code",
   "execution_count": 750,
   "metadata": {},
   "outputs": [
    {
     "data": {
      "text/plain": [
       "(Parameter containing:\n",
       " tensor([[0.0684]]),\n",
       " Parameter containing:\n",
       " tensor([8.6767]))"
      ]
     },
     "execution_count": 750,
     "metadata": {},
     "output_type": "execute_result"
    }
   ],
   "source": [
    "net.fc.weight, net.fc.bias"
   ]
  },
  {
   "cell_type": "markdown",
   "metadata": {},
   "source": [
    "# Formula:   $ y = b + a * x$\n"
   ]
  },
  {
   "cell_type": "code",
   "execution_count": 776,
   "metadata": {},
   "outputs": [],
   "source": [
    "b = net.fc.bias.data.numpy()[0]\n",
    "a = net.fc.weight.data.numpy()[0]\n",
    "\n",
    "exp_a = np.exp(a)\n",
    "exp_b = np.exp(b)\n",
    "\n",
    "log_xt_exp_growth = lambda x: exp_b + exp_a * x\n",
    "\n",
    "exp_growth = lambda x: exp_b * exp_a ** x"
   ]
  },
  {
   "cell_type": "code",
   "execution_count": 772,
   "metadata": {},
   "outputs": [
    {
     "name": "stdout",
     "output_type": "stream",
     "text": [
      "[0.06835338] [1.0707437]\n",
      "8.676654 5864.3906\n"
     ]
    }
   ],
   "source": [
    "print(a, exp_a)\n",
    "print(b, exp_b)"
   ]
  },
  {
   "cell_type": "code",
   "execution_count": 814,
   "metadata": {},
   "outputs": [
    {
     "data": {
      "text/plain": [
       "[<matplotlib.lines.Line2D at 0x7fc3b926b630>]"
      ]
     },
     "execution_count": 814,
     "metadata": {},
     "output_type": "execute_result"
    },
    {
     "data": {
      "image/png": "[encoded data removed]",
      "text/plain": [
       "<Figure size 720x720 with 1 Axes>"
      ]
     },
     "metadata": {
      "needs_background": "light"
     },
     "output_type": "display_data"
    }
   ],
   "source": [
    "preds = []\n",
    "\n",
    "\n",
    "for i in range(0,66):\n",
    "    \n",
    "    p = exp_growth(i)\n",
    "    preds.append(p)\n",
    "    \n",
    "\n",
    "figure(figsize=(10,10))\n",
    "\n",
    "title('fitting model on covid-19 Confirmed cases data (exp growth rate)')\n",
    "grid()\n",
    "plot(preds)\n",
    "plot(targets)"
   ]
  },
  {
   "cell_type": "code",
   "execution_count": 662,
   "metadata": {},
   "outputs": [],
   "source": [
    "# torch.exp((y * tstd) + tmean)"
   ]
  },
  {
   "cell_type": "markdown",
   "metadata": {},
   "source": [
    "# 1 week Forcast (Day >> number of cases) "
   ]
  },
  {
   "cell_type": "code",
   "execution_count": 824,
   "metadata": {},
   "outputs": [
    {
     "data": {
      "text/plain": [
       "array([529591.])"
      ]
     },
     "execution_count": 824,
     "metadata": {},
     "output_type": "execute_result"
    }
   ],
   "source": []
  },
  {
   "cell_type": "code",
   "execution_count": 838,
   "metadata": {},
   "outputs": [
    {
     "data": {
      "image/png": "[encoded data removed]",
      "text/plain": [
       "<Figure size 720x720 with 1 Axes>"
      ]
     },
     "metadata": {
      "needs_background": "light"
     },
     "output_type": "display_data"
    },
    {
     "data": {
      "text/plain": [
       "[(1, array([533908.94], dtype=float32)),\n",
       " (2, array([571679.6], dtype=float32)),\n",
       " (3, array([612122.4], dtype=float32)),\n",
       " (4, array([655426.1], dtype=float32)),\n",
       " (5, array([701793.4], dtype=float32)),\n",
       " (6, array([751440.8], dtype=float32)),\n",
       " (7, array([804600.56], dtype=float32))]"
      ]
     },
     "execution_count": 838,
     "metadata": {},
     "output_type": "execute_result"
    }
   ],
   "source": [
    "preds = []\n",
    "\n",
    "\n",
    "for i in range(0, 65+8):\n",
    "    \n",
    "    if i < 66:\n",
    "        preds.append(0)\n",
    "        continue\n",
    "    p = exp_growth(i)\n",
    "    preds.append(p)\n",
    "    \n",
    "\n",
    "figure(figsize=(10,10))\n",
    "\n",
    "title('One week forecast')\n",
    "grid()\n",
    "plot(np.arange(65, 65+7), preds[66:])\n",
    "\n",
    "plot([0, 70], [targets[64][0], targets[64][0]], 'mo-', ms=10)\n",
    "\n",
    "plot(targets)\n",
    "\n",
    "legend(['7-days forecast Mar 27 - Apr 2', 'delimeter', 'current cases Jan 22 - Mar 26'], fontsize=15)\n",
    "\n",
    "show()\n",
    "\n",
    "\n",
    "list(zip((np.arange(len(preds[66:]) )+1), preds[66:] ))"
   ]
  },
  {
   "cell_type": "code",
   "execution_count": null,
   "metadata": {},
   "outputs": [],
   "source": []
  }
 ],
 "metadata": {
  "kernelspec": {
   "display_name": "Python 3",
   "language": "python",
   "name": "python3"
  },
  "language_info": {
   "codemirror_mode": {
    "name": "ipython",
    "version": 3
   },
   "file_extension": ".py",
   "mimetype": "text/x-python",
   "name": "python",
   "nbconvert_exporter": "python",
   "pygments_lexer": "ipython3",
   "version": "3.6.9"
  }
 },
 "nbformat": 4,
 "nbformat_minor": 4
}
