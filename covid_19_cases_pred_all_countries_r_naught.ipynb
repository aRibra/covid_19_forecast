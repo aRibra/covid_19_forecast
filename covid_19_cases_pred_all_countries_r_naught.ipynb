{
 "cells": [
  {
   "cell_type": "code",
   "execution_count": 1,
   "metadata": {
    "_cell_guid": "b1076dfc-b9ad-4769-8c92-a6c4dae69d19",
    "_uuid": "8f2839f25d086af736a60e9eeb907d3b93b6e0e5"
   },
   "outputs": [],
   "source": [
    "import numpy as np\n",
    "import pandas as pd \n",
    "\n",
    "\n",
    "import os\n",
    "for dirname, _, filenames in os.walk('/kaggle/input'):\n",
    "    for filename in filenames:\n",
    "        print(os.path.join(dirname, filename))"
   ]
  },
  {
   "cell_type": "code",
   "execution_count": 2,
   "metadata": {
    "_cell_guid": "79c7e3d0-c299-4dcb-8224-4455121ee9b0",
    "_uuid": "d629ff2d2480ee46fbb7e2d37f6b5fab8052498a"
   },
   "outputs": [
    {
     "data": {
      "text/html": [
       "<div>\n",
       "<style scoped>\n",
       "    .dataframe tbody tr th:only-of-type {\n",
       "        vertical-align: middle;\n",
       "    }\n",
       "\n",
       "    .dataframe tbody tr th {\n",
       "        vertical-align: top;\n",
       "    }\n",
       "\n",
       "    .dataframe thead th {\n",
       "        text-align: right;\n",
       "    }\n",
       "</style>\n",
       "<table border=\"1\" class=\"dataframe\">\n",
       "  <thead>\n",
       "    <tr style=\"text-align: right;\">\n",
       "      <th></th>\n",
       "      <th>Province/State</th>\n",
       "      <th>Country/Region</th>\n",
       "      <th>Lat</th>\n",
       "      <th>Long</th>\n",
       "      <th>1/22/20</th>\n",
       "      <th>1/23/20</th>\n",
       "      <th>1/24/20</th>\n",
       "      <th>1/25/20</th>\n",
       "      <th>1/26/20</th>\n",
       "      <th>1/27/20</th>\n",
       "      <th>...</th>\n",
       "      <th>3/17/20</th>\n",
       "      <th>3/18/20</th>\n",
       "      <th>3/19/20</th>\n",
       "      <th>3/20/20</th>\n",
       "      <th>3/21/20</th>\n",
       "      <th>3/22/20</th>\n",
       "      <th>3/23/20</th>\n",
       "      <th>3/24/20</th>\n",
       "      <th>3/25/20</th>\n",
       "      <th>3/26/20</th>\n",
       "    </tr>\n",
       "  </thead>\n",
       "  <tbody>\n",
       "    <tr>\n",
       "      <th>0</th>\n",
       "      <td>NaN</td>\n",
       "      <td>Afghanistan</td>\n",
       "      <td>33.0000</td>\n",
       "      <td>65.0000</td>\n",
       "      <td>0</td>\n",
       "      <td>0</td>\n",
       "      <td>0</td>\n",
       "      <td>0</td>\n",
       "      <td>0</td>\n",
       "      <td>0</td>\n",
       "      <td>...</td>\n",
       "      <td>22</td>\n",
       "      <td>22</td>\n",
       "      <td>22</td>\n",
       "      <td>24</td>\n",
       "      <td>24</td>\n",
       "      <td>40</td>\n",
       "      <td>40</td>\n",
       "      <td>74</td>\n",
       "      <td>84</td>\n",
       "      <td>94</td>\n",
       "    </tr>\n",
       "    <tr>\n",
       "      <th>1</th>\n",
       "      <td>NaN</td>\n",
       "      <td>Albania</td>\n",
       "      <td>41.1533</td>\n",
       "      <td>20.1683</td>\n",
       "      <td>0</td>\n",
       "      <td>0</td>\n",
       "      <td>0</td>\n",
       "      <td>0</td>\n",
       "      <td>0</td>\n",
       "      <td>0</td>\n",
       "      <td>...</td>\n",
       "      <td>55</td>\n",
       "      <td>59</td>\n",
       "      <td>64</td>\n",
       "      <td>70</td>\n",
       "      <td>76</td>\n",
       "      <td>89</td>\n",
       "      <td>104</td>\n",
       "      <td>123</td>\n",
       "      <td>146</td>\n",
       "      <td>174</td>\n",
       "    </tr>\n",
       "    <tr>\n",
       "      <th>2</th>\n",
       "      <td>NaN</td>\n",
       "      <td>Algeria</td>\n",
       "      <td>28.0339</td>\n",
       "      <td>1.6596</td>\n",
       "      <td>0</td>\n",
       "      <td>0</td>\n",
       "      <td>0</td>\n",
       "      <td>0</td>\n",
       "      <td>0</td>\n",
       "      <td>0</td>\n",
       "      <td>...</td>\n",
       "      <td>60</td>\n",
       "      <td>74</td>\n",
       "      <td>87</td>\n",
       "      <td>90</td>\n",
       "      <td>139</td>\n",
       "      <td>201</td>\n",
       "      <td>230</td>\n",
       "      <td>264</td>\n",
       "      <td>302</td>\n",
       "      <td>367</td>\n",
       "    </tr>\n",
       "    <tr>\n",
       "      <th>3</th>\n",
       "      <td>NaN</td>\n",
       "      <td>Andorra</td>\n",
       "      <td>42.5063</td>\n",
       "      <td>1.5218</td>\n",
       "      <td>0</td>\n",
       "      <td>0</td>\n",
       "      <td>0</td>\n",
       "      <td>0</td>\n",
       "      <td>0</td>\n",
       "      <td>0</td>\n",
       "      <td>...</td>\n",
       "      <td>39</td>\n",
       "      <td>39</td>\n",
       "      <td>53</td>\n",
       "      <td>75</td>\n",
       "      <td>88</td>\n",
       "      <td>113</td>\n",
       "      <td>133</td>\n",
       "      <td>164</td>\n",
       "      <td>188</td>\n",
       "      <td>224</td>\n",
       "    </tr>\n",
       "    <tr>\n",
       "      <th>4</th>\n",
       "      <td>NaN</td>\n",
       "      <td>Angola</td>\n",
       "      <td>-11.2027</td>\n",
       "      <td>17.8739</td>\n",
       "      <td>0</td>\n",
       "      <td>0</td>\n",
       "      <td>0</td>\n",
       "      <td>0</td>\n",
       "      <td>0</td>\n",
       "      <td>0</td>\n",
       "      <td>...</td>\n",
       "      <td>0</td>\n",
       "      <td>0</td>\n",
       "      <td>0</td>\n",
       "      <td>1</td>\n",
       "      <td>2</td>\n",
       "      <td>2</td>\n",
       "      <td>3</td>\n",
       "      <td>3</td>\n",
       "      <td>3</td>\n",
       "      <td>4</td>\n",
       "    </tr>\n",
       "  </tbody>\n",
       "</table>\n",
       "<p>5 rows × 69 columns</p>\n",
       "</div>"
      ],
      "text/plain": [
       "  Province/State Country/Region      Lat     Long  1/22/20  1/23/20  1/24/20  \\\n",
       "0            NaN    Afghanistan  33.0000  65.0000        0        0        0   \n",
       "1            NaN        Albania  41.1533  20.1683        0        0        0   \n",
       "2            NaN        Algeria  28.0339   1.6596        0        0        0   \n",
       "3            NaN        Andorra  42.5063   1.5218        0        0        0   \n",
       "4            NaN         Angola -11.2027  17.8739        0        0        0   \n",
       "\n",
       "   1/25/20  1/26/20  1/27/20  ...  3/17/20  3/18/20  3/19/20  3/20/20  \\\n",
       "0        0        0        0  ...       22       22       22       24   \n",
       "1        0        0        0  ...       55       59       64       70   \n",
       "2        0        0        0  ...       60       74       87       90   \n",
       "3        0        0        0  ...       39       39       53       75   \n",
       "4        0        0        0  ...        0        0        0        1   \n",
       "\n",
       "   3/21/20  3/22/20  3/23/20  3/24/20  3/25/20  3/26/20  \n",
       "0       24       40       40       74       84       94  \n",
       "1       76       89      104      123      146      174  \n",
       "2      139      201      230      264      302      367  \n",
       "3       88      113      133      164      188      224  \n",
       "4        2        2        3        3        3        4  \n",
       "\n",
       "[5 rows x 69 columns]"
      ]
     },
     "execution_count": 2,
     "metadata": {},
     "output_type": "execute_result"
    }
   ],
   "source": [
    "data = pd.read_csv('/home/ibrahim/Desktop/covid-19/time_series_covid_19_confirmed.csv')\n",
    "data.head()"
   ]
  },
  {
   "cell_type": "markdown",
   "metadata": {},
   "source": [
    "### US"
   ]
  },
  {
   "cell_type": "code",
   "execution_count": 676,
   "metadata": {},
   "outputs": [],
   "source": [
    "nums = data[data['Country/Region']=='US'].sum().drop(['Province/State','Country/Region','Lat','Long'])\n",
    "#nums = data[data['Country/Region']=='US'].sum().drop(['Lat','Long'])"
   ]
  },
  {
   "cell_type": "code",
   "execution_count": 677,
   "metadata": {},
   "outputs": [],
   "source": [
    "y = data[data['Country/Region']=='US'].sum().drop(['Province/State','Country/Region','Lat','Long']).tolist()\n",
    "x = range(len(y))"
   ]
  },
  {
   "cell_type": "markdown",
   "metadata": {},
   "source": [
    "### All Countries"
   ]
  },
  {
   "cell_type": "code",
   "execution_count": 3,
   "metadata": {},
   "outputs": [],
   "source": [
    "nums = data[:].sum().drop(['Lat','Long'])\n",
    "#nums = data[data['Country/Region']=='US'].sum().drop(['Lat','Long'])\n",
    "\n",
    "y = data[:].sum().drop(['Lat','Long']).tolist()\n",
    "x = range(len(y))"
   ]
  },
  {
   "cell_type": "code",
   "execution_count": 6,
   "metadata": {},
   "outputs": [
    {
     "data": {
      "image/png": "[encoded data removed]",
      "text/plain": [
       "<Figure size 1080x360 with 1 Axes>"
      ]
     },
     "metadata": {
      "needs_background": "light"
     },
     "output_type": "display_data"
    }
   ],
   "source": [
    "import matplotlib.pyplot as plt\n",
    "import seaborn as sns\n",
    "plt.figure(figsize=(15,5))\n",
    "plt.plot(nums)\n",
    "plt.xticks(rotation=90)\n",
    "plt.ylabel('Cases')\n",
    "plt.title(\"All Countries Coronavirus Cases up to March 26th\")\n",
    "plt.show()"
   ]
  },
  {
   "cell_type": "code",
   "execution_count": null,
   "metadata": {},
   "outputs": [],
   "source": []
  },
  {
   "cell_type": "code",
   "execution_count": null,
   "metadata": {},
   "outputs": [],
   "source": []
  },
  {
   "cell_type": "markdown",
   "metadata": {},
   "source": [
    "# InfectionRateNet "
   ]
  },
  {
   "cell_type": "code",
   "execution_count": 9,
   "metadata": {},
   "outputs": [],
   "source": [
    "import torch\n",
    "from torch import nn\n",
    "import numpy as np\n",
    "import copy\n",
    "from pylab import *\n",
    "from torch.autograd import Variable\n"
   ]
  },
  {
   "cell_type": "code",
   "execution_count": 11,
   "metadata": {},
   "outputs": [
    {
     "name": "stdout",
     "output_type": "stream",
     "text": [
      "0 / Loss= 22.44049002508822\n",
      "10000 / Loss= 0.8575818038562475\n",
      "20000 / Loss= 0.7035333558042243\n",
      "30000 / Loss= 0.5682300812498846\n",
      "40000 / Loss= 0.4946292971389458\n",
      "50000 / Loss= 0.4624968660861808\n",
      "60000 / Loss= 0.44964539231886413\n",
      "70000 / Loss= 0.44321940335415466\n",
      "80000 / Loss= 0.43743713753425384\n",
      "90000 / Loss= 0.4329177068983427\n"
     ]
    }
   ],
   "source": [
    "\n",
    "features = np.expand_dims(np.arange(65), 1) + 1\n",
    "features = features.astype(np.float)\n",
    "\n",
    "y = data[:].sum().drop(['Lat','Long']).tolist()\n",
    "\n",
    "targets = np.expand_dims(np.array(y), 1)\n",
    "targets = targets.astype(np.float)\n",
    "\n",
    "fstd = np.std(features.flatten())\n",
    "fmean = np.mean(features.flatten())\n",
    "\n",
    "\n",
    "x = Variable(torch.from_numpy(features))\n",
    "y = Variable(torch.from_numpy(targets))\n",
    "\n",
    "y = torch.log(y)\n",
    "\n",
    "tstd = torch.std(y)\n",
    "tmean = torch.mean(y)\n",
    "\n",
    "x = (x - fmean) / fstd\n",
    "y = (y - tmean) / tstd\n",
    "\n",
    "class InfectionRateNet(torch.nn.Module):\n",
    "    def __init__(self):\n",
    "        super(InfectionRateNet, self).__init__()\n",
    "#         a = np.random.normal(scale = 1 / np.sqrt(3), size = 1)\n",
    "#         b = np.random.normal(scale = 1 / np.sqrt(3), size = 1)\n",
    "        a = np.array([0.1313])\n",
    "        b  = np.array([0.7547])\n",
    "        self.a = nn.Parameter(torch.tensor(a))\n",
    "        self.b = nn.Parameter(torch.tensor(b))\n",
    "        \n",
    "    def forward(self, x):\n",
    "        self.r_naught = torch.pow( self.a, (x - self.b) )\n",
    "        x = self.r_naught\n",
    "        return x\n",
    "\n",
    "net = InfectionRateNet()\n",
    "\n",
    "lr=0.0001  #0.0001\n",
    "epochs = 100_000\n",
    "\n",
    "\n",
    "optimizer = torch.optim.SGD(net.parameters(), lr=lr)\n",
    "criterion = torch.nn.L1Loss()\n",
    "# criterion = torch.nn.SmoothL1Loss() \n",
    "\n",
    "\n",
    "for t in range(epochs):\n",
    "    y_hat = net(x)\n",
    "\n",
    "    loss = criterion(y_hat, y)\n",
    "\n",
    "    optimizer.zero_grad()\n",
    "    loss.backward()\n",
    "    optimizer.step()\n",
    "        \n",
    "    if t%10000 == 0:\n",
    "        print(t, '/ Loss=', loss.data.numpy())\n",
    "    "
   ]
  },
  {
   "cell_type": "code",
   "execution_count": 12,
   "metadata": {},
   "outputs": [],
   "source": [
    "model_state = {\n",
    "        'state_dict': net.state_dict(),\n",
    "    }\n",
    "       \n",
    "chkpnt_path = 'r_naught_covid19_cases_pred_net.pth'\n",
    "torch.save(model_state, chkpnt_path)"
   ]
  },
  {
   "cell_type": "markdown",
   "metadata": {},
   "source": [
    "# Eval"
   ]
  },
  {
   "cell_type": "code",
   "execution_count": 13,
   "metadata": {},
   "outputs": [
    {
     "data": {
      "text/plain": [
       "<bound method Module.children of InfectionRateNet()>"
      ]
     },
     "execution_count": 13,
     "metadata": {},
     "output_type": "execute_result"
    }
   ],
   "source": [
    "# net_eval = copy.deepcopy(net)\n",
    "net_eval = net.eval()\n",
    "\n",
    "for p in net_eval.parameters():\n",
    "    p.requires_grad = False\n",
    "    \n",
    "net.children"
   ]
  },
  {
   "cell_type": "code",
   "execution_count": 17,
   "metadata": {},
   "outputs": [
    {
     "data": {
      "text/plain": [
       "(Parameter containing:\n",
       " tensor([2.6119], dtype=torch.float64),\n",
       " Parameter containing:\n",
       " tensor([1.4169], dtype=torch.float64))"
      ]
     },
     "execution_count": 17,
     "metadata": {},
     "output_type": "execute_result"
    }
   ],
   "source": [
    "net.a, net.b"
   ]
  },
  {
   "cell_type": "code",
   "execution_count": 18,
   "metadata": {},
   "outputs": [
    {
     "name": "stdout",
     "output_type": "stream",
     "text": [
      "Parameter containing:\n",
      "tensor([2.6119], dtype=torch.float64)\n",
      "Parameter containing:\n",
      "tensor([1.4169], dtype=torch.float64)\n"
     ]
    }
   ],
   "source": [
    "for p in net_eval.parameters():\n",
    "    print(p)"
   ]
  },
  {
   "cell_type": "code",
   "execution_count": 22,
   "metadata": {},
   "outputs": [
    {
     "name": "stderr",
     "output_type": "stream",
     "text": [
      "/home/ibrahim/.local/lib/python3.6/site-packages/ipykernel_launcher.py:15: UserWarning: To copy construct from a tensor, it is recommended to use sourceTensor.clone().detach() or sourceTensor.clone().detach().requires_grad_(True), rather than torch.tensor(sourceTensor).\n",
      "  from ipykernel import kernelapp as app\n"
     ]
    },
    {
     "data": {
      "text/plain": [
       "[<matplotlib.lines.Line2D at 0x7fcf02360978>]"
      ]
     },
     "execution_count": 22,
     "metadata": {},
     "output_type": "execute_result"
    },
    {
     "data": {
      "image/png": "[encoded data removed]",
      "text/plain": [
       "<Figure size 720x720 with 1 Axes>"
      ]
     },
     "metadata": {
      "needs_background": "light"
     },
     "output_type": "display_data"
    }
   ],
   "source": [
    "preds = []\n",
    "\n",
    "\n",
    "for i in range(1,70):\n",
    "    \n",
    "    inp_x = i\n",
    "    inp_x = (inp_x - fmean) / fstd\n",
    "    inp_x = torch.tensor([inp_x])\n",
    "    inp_x = inp_x.type(torch.DoubleTensor)\n",
    "\n",
    "    \n",
    "    out_pred = net_eval(inp_x)\n",
    "    \n",
    "    out_pred = (out_pred * tstd) + tmean\n",
    "    out_pred = torch.exp(torch.tensor(out_pred))\n",
    "\n",
    "    preds.append(out_pred)\n",
    "\n",
    "figure(figsize=(10,10))\n",
    "\n",
    "title('fitting model on covid-19 Confirmed cases data / r_naught ~= '+str(1.425))\n",
    "grid()\n",
    "plot(preds)\n",
    "plot(targets)"
   ]
  },
  {
   "cell_type": "code",
   "execution_count": 662,
   "metadata": {},
   "outputs": [],
   "source": [
    "# torch.exp((y * tstd) + tmean)"
   ]
  },
  {
   "cell_type": "markdown",
   "metadata": {},
   "source": [
    "# Formula:   $y=a^{(x-b)}$\n"
   ]
  },
  {
   "cell_type": "code",
   "execution_count": 682,
   "metadata": {},
   "outputs": [
    {
     "name": "stdout",
     "output_type": "stream",
     "text": [
      "tensor(98.7384, dtype=torch.float64)\n",
      "tensor(99.0528, dtype=torch.float64)\n",
      "tensor(99.3959, dtype=torch.float64)\n",
      "tensor(99.7705, dtype=torch.float64)\n",
      "tensor(100.1796, dtype=torch.float64)\n",
      "tensor(100.6264, dtype=torch.float64)\n",
      "tensor(101.1148, dtype=torch.float64)\n",
      "tensor(101.6487, dtype=torch.float64)\n",
      "tensor(102.2327, dtype=torch.float64)\n",
      "tensor(102.8717, dtype=torch.float64)\n",
      "tensor(103.5714, dtype=torch.float64)\n",
      "tensor(104.3379, dtype=torch.float64)\n",
      "tensor(105.1781, dtype=torch.float64)\n",
      "tensor(106.0997, dtype=torch.float64)\n",
      "tensor(107.1113, dtype=torch.float64)\n",
      "tensor(108.2227, dtype=torch.float64)\n",
      "tensor(109.4448, dtype=torch.float64)\n",
      "tensor(110.7898, dtype=torch.float64)\n",
      "tensor(112.2715, dtype=torch.float64)\n",
      "tensor(113.9059, dtype=torch.float64)\n",
      "tensor(115.7107, dtype=torch.float64)\n",
      "tensor(117.7064, dtype=torch.float64)\n",
      "tensor(119.9164, dtype=torch.float64)\n",
      "tensor(122.3675, dtype=torch.float64)\n",
      "tensor(125.0906, dtype=torch.float64)\n",
      "tensor(128.1215, dtype=torch.float64)\n",
      "tensor(131.5019, dtype=torch.float64)\n",
      "tensor(135.2804, dtype=torch.float64)\n",
      "tensor(139.5138, dtype=torch.float64)\n",
      "tensor(144.2693, dtype=torch.float64)\n",
      "tensor(149.6265, dtype=torch.float64)\n",
      "tensor(155.6800, dtype=torch.float64)\n",
      "tensor(162.5431, dtype=torch.float64)\n",
      "tensor(170.3527, dtype=torch.float64)\n",
      "tensor(179.2742, dtype=torch.float64)\n",
      "tensor(189.5101, dtype=torch.float64)\n",
      "tensor(201.3091, dtype=torch.float64)\n",
      "tensor(214.9792, dtype=torch.float64)\n",
      "tensor(230.9053, dtype=torch.float64)\n",
      "tensor(249.5717, dtype=torch.float64)\n",
      "tensor(271.5937, dtype=torch.float64)\n",
      "tensor(297.7606, dtype=torch.float64)\n",
      "tensor(329.0946, dtype=torch.float64)\n",
      "tensor(366.9340, dtype=torch.float64)\n",
      "tensor(413.0509, dtype=torch.float64)\n",
      "tensor(469.8202, dtype=torch.float64)\n",
      "tensor(540.4659, dtype=torch.float64)\n",
      "tensor(629.4254, dtype=torch.float64)\n",
      "tensor(742.8962, dtype=torch.float64)\n",
      "tensor(889.6715, dtype=torch.float64)\n",
      "tensor(1082.4389, dtype=torch.float64)\n",
      "tensor(1339.8381, dtype=torch.float64)\n",
      "tensor(1689.7894, dtype=torch.float64)\n",
      "tensor(2174.9928, dtype=torch.float64)\n",
      "tensor(2862.2285, dtype=torch.float64)\n",
      "tensor(3858.4818, dtype=torch.float64)\n",
      "tensor(5339.6499, dtype=torch.float64)\n",
      "tensor(7603.1301, dtype=torch.float64)\n",
      "tensor(11167.1458, dtype=torch.float64)\n",
      "tensor(16964.6259, dtype=torch.float64)\n",
      "tensor(26735.2767, dtype=torch.float64)\n",
      "tensor(43849.2528, dtype=torch.float64)\n",
      "tensor(75110.1141, dtype=torch.float64)\n",
      "tensor(134880.2891, dtype=torch.float64)\n",
      "tensor(254983.9200, dtype=torch.float64)\n",
      "tensor(509741.2096, dtype=torch.float64)\n",
      "tensor(1082903.1835, dtype=torch.float64)\n",
      "tensor(2457817.8882, dtype=torch.float64)\n",
      "tensor(5994467.1007, dtype=torch.float64)\n"
     ]
    }
   ],
   "source": [
    " \n",
    "\n",
    "ff = 0\n",
    "r_naught = net_eval.a.data.numpy()[0]\n",
    "b = net_eval.b.data.numpy()[0]\n",
    "for f in np.arange(1, 70):\n",
    "    inp = (f - fmean) / fstd\n",
    "    out = r_naught ** (inp - b)\n",
    "    out = (out * tstd) + tmean\n",
    "    possible_infections = np.exp(out) \n",
    "#     ff += infect_rate\n",
    "    \n",
    "    print(possible_infections)\n",
    "    \n",
    "#     print(f, ff ** r_naught)"
   ]
  },
  {
   "cell_type": "markdown",
   "metadata": {},
   "source": [
    "# Day >> number of cases "
   ]
  },
  {
   "cell_type": "code",
   "execution_count": 680,
   "metadata": {},
   "outputs": [
    {
     "data": {
      "text/plain": [
       "[(1, tensor([98.7384], dtype=torch.float64)),\n",
       " (2, tensor([99.0528], dtype=torch.float64)),\n",
       " (3, tensor([99.3959], dtype=torch.float64)),\n",
       " (4, tensor([99.7705], dtype=torch.float64)),\n",
       " (5, tensor([100.1796], dtype=torch.float64)),\n",
       " (6, tensor([100.6264], dtype=torch.float64)),\n",
       " (7, tensor([101.1148], dtype=torch.float64)),\n",
       " (8, tensor([101.6487], dtype=torch.float64)),\n",
       " (9, tensor([102.2327], dtype=torch.float64)),\n",
       " (10, tensor([102.8717], dtype=torch.float64)),\n",
       " (11, tensor([103.5714], dtype=torch.float64)),\n",
       " (12, tensor([104.3379], dtype=torch.float64)),\n",
       " (13, tensor([105.1781], dtype=torch.float64)),\n",
       " (14, tensor([106.0997], dtype=torch.float64)),\n",
       " (15, tensor([107.1113], dtype=torch.float64)),\n",
       " (16, tensor([108.2227], dtype=torch.float64)),\n",
       " (17, tensor([109.4448], dtype=torch.float64)),\n",
       " (18, tensor([110.7898], dtype=torch.float64)),\n",
       " (19, tensor([112.2715], dtype=torch.float64)),\n",
       " (20, tensor([113.9059], dtype=torch.float64)),\n",
       " (21, tensor([115.7107], dtype=torch.float64)),\n",
       " (22, tensor([117.7064], dtype=torch.float64)),\n",
       " (23, tensor([119.9164], dtype=torch.float64)),\n",
       " (24, tensor([122.3675], dtype=torch.float64)),\n",
       " (25, tensor([125.0906], dtype=torch.float64)),\n",
       " (26, tensor([128.1215], dtype=torch.float64)),\n",
       " (27, tensor([131.5019], dtype=torch.float64)),\n",
       " (28, tensor([135.2804], dtype=torch.float64)),\n",
       " (29, tensor([139.5138], dtype=torch.float64)),\n",
       " (30, tensor([144.2693], dtype=torch.float64)),\n",
       " (31, tensor([149.6265], dtype=torch.float64)),\n",
       " (32, tensor([155.6800], dtype=torch.float64)),\n",
       " (33, tensor([162.5431], dtype=torch.float64)),\n",
       " (34, tensor([170.3527], dtype=torch.float64)),\n",
       " (35, tensor([179.2742], dtype=torch.float64)),\n",
       " (36, tensor([189.5101], dtype=torch.float64)),\n",
       " (37, tensor([201.3091], dtype=torch.float64)),\n",
       " (38, tensor([214.9792], dtype=torch.float64)),\n",
       " (39, tensor([230.9053], dtype=torch.float64)),\n",
       " (40, tensor([249.5717], dtype=torch.float64)),\n",
       " (41, tensor([271.5937], dtype=torch.float64)),\n",
       " (42, tensor([297.7606], dtype=torch.float64)),\n",
       " (43, tensor([329.0946], dtype=torch.float64)),\n",
       " (44, tensor([366.9340], dtype=torch.float64)),\n",
       " (45, tensor([413.0509], dtype=torch.float64)),\n",
       " (46, tensor([469.8202], dtype=torch.float64)),\n",
       " (47, tensor([540.4659], dtype=torch.float64)),\n",
       " (48, tensor([629.4254], dtype=torch.float64)),\n",
       " (49, tensor([742.8962], dtype=torch.float64)),\n",
       " (50, tensor([889.6714], dtype=torch.float64)),\n",
       " (51, tensor([1082.4388], dtype=torch.float64)),\n",
       " (52, tensor([1339.8382], dtype=torch.float64)),\n",
       " (53, tensor([1689.7892], dtype=torch.float64)),\n",
       " (54, tensor([2174.9921], dtype=torch.float64)),\n",
       " (55, tensor([2862.2289], dtype=torch.float64)),\n",
       " (56, tensor([3858.4815], dtype=torch.float64)),\n",
       " (57, tensor([5339.6483], dtype=torch.float64)),\n",
       " (58, tensor([7603.1319], dtype=torch.float64)),\n",
       " (59, tensor([11167.1456], dtype=torch.float64)),\n",
       " (60, tensor([16964.6204], dtype=torch.float64)),\n",
       " (61, tensor([26735.2868], dtype=torch.float64)),\n",
       " (62, tensor([43849.2552], dtype=torch.float64)),\n",
       " (63, tensor([75110.0894], dtype=torch.float64)),\n",
       " (64, tensor([134880.3683], dtype=torch.float64)),\n",
       " (65, tensor([254983.9659], dtype=torch.float64)),\n",
       " (66, tensor([509741.0554], dtype=torch.float64)),\n",
       " (67, tensor([1082902.2397], dtype=torch.float64))]"
      ]
     },
     "execution_count": 680,
     "metadata": {},
     "output_type": "execute_result"
    }
   ],
   "source": [
    "list(zip((np.arange(len(preds) )+1), preds ))"
   ]
  },
  {
   "cell_type": "markdown",
   "metadata": {},
   "source": [
    "# R0 "
   ]
  },
  {
   "cell_type": "code",
   "execution_count": 681,
   "metadata": {},
   "outputs": [
    {
     "name": "stdout",
     "output_type": "stream",
     "text": [
      "1 1.0\n",
      "2 6.415016511791511\n",
      "3 21.00183349086345\n",
      "4 50.51040992927323\n",
      "5 101.50446147449163\n",
      "6 181.25433540626682\n",
      "7 297.66257109252695\n",
      "8 459.2082721761458\n",
      "9 674.9035113982718\n",
      "10 954.2579871988513\n",
      "11 1307.2496305547193\n",
      "12 1744.2996690983691\n",
      "13 2276.2511318273155\n",
      "14 2914.3500748508627\n",
      "15 3670.2290026970704\n",
      "16 4555.892091306733\n",
      "17 5583.701910918428\n",
      "18 6766.367413202697\n",
      "19 8116.932995628564\n",
      "20 9648.768492501658\n",
      "21 11375.559969925105\n",
      "22 13311.30122348051\n",
      "23 15470.28589434906\n",
      "24 17867.100133048392\n",
      "25 20516.615750779405\n",
      "26 23433.98380716329\n",
      "27 26634.628590350323\n",
      "28 30134.241951434164\n",
      "29 33948.77796006306\n",
      "30 38094.44785229812\n",
      "31 42587.715245280815\n",
      "32 47445.291596254916\n",
      "33 52684.13188603761\n",
      "34 58321.430509223566\n",
      "35 64374.61735529573\n",
      "36 70861.35406645574\n",
      "37 77799.53045941377\n",
      "38 85207.26109962654\n",
      "39 93102.88201756742\n",
      "40 101504.94755757888\n",
      "41 110432.22735071072\n",
      "42 119903.70340370518\n",
      "43 129938.56729696346\n",
      "44 140556.21748492998\n",
      "45 151776.2566928681\n",
      "46 163618.48940448475\n",
      "47 176102.91943529472\n",
      "48 189249.7475870077\n",
      "49 203079.36937857472\n",
      "50 217612.37284985124\n",
      "51 232869.53643412556\n",
      "52 248871.82689602504\n",
      "53 265640.3973315546\n",
      "54 283196.585227242\n",
      "55 301561.910575565\n",
      "56 320758.07404402236\n",
      "57 340806.95519537583\n",
      "58 361730.61075675115\n",
      "59 383551.2729354249\n",
      "60 406291.34777925845\n",
      "61 429973.41357986286\n",
      "62 454620.21931668837\n",
      "63 480254.6831403399\n",
      "64 506899.8908935153\n",
      "65 534579.0946680523\n",
      "66 563315.7113966546\n",
      "67 593133.3214779454\n"
     ]
    }
   ],
   "source": [
    "ff = 0\n",
    "r_naught = 1.425\n",
    "for f in np.arange(1, 68):\n",
    "    infect_rate = f ** r_naught\n",
    "    ff += infect_rate\n",
    "    print(f, ff ** r_naught)"
   ]
  },
  {
   "cell_type": "code",
   "execution_count": null,
   "metadata": {},
   "outputs": [],
   "source": []
  },
  {
   "cell_type": "code",
   "execution_count": null,
   "metadata": {},
   "outputs": [],
   "source": []
  },
  {
   "cell_type": "code",
   "execution_count": null,
   "metadata": {},
   "outputs": [],
   "source": []
  },
  {
   "cell_type": "code",
   "execution_count": null,
   "metadata": {},
   "outputs": [],
   "source": []
  },
  {
   "cell_type": "code",
   "execution_count": null,
   "metadata": {},
   "outputs": [],
   "source": []
  },
  {
   "cell_type": "code",
   "execution_count": null,
   "metadata": {},
   "outputs": [],
   "source": []
  },
  {
   "cell_type": "markdown",
   "metadata": {},
   "source": [
    "### Scipy fit"
   ]
  },
  {
   "cell_type": "code",
   "execution_count": 159,
   "metadata": {},
   "outputs": [],
   "source": [
    "import matplotlib.pyplot as plt\n",
    "from scipy.optimize import curve_fit"
   ]
  },
  {
   "cell_type": "code",
   "execution_count": 226,
   "metadata": {},
   "outputs": [],
   "source": [
    "def func(x, a, b):\n",
    "    return a ** (x-b)"
   ]
  },
  {
   "cell_type": "code",
   "execution_count": 227,
   "metadata": {},
   "outputs": [],
   "source": [
    "xdata = np.arange(65)\n",
    "ydata = np.array(y)"
   ]
  },
  {
   "cell_type": "code",
   "execution_count": 236,
   "metadata": {},
   "outputs": [
    {
     "data": {
      "text/plain": [
       "529591.0"
      ]
     },
     "execution_count": 236,
     "metadata": {},
     "output_type": "execute_result"
    }
   ],
   "source": [
    "ydata[-1]"
   ]
  },
  {
   "cell_type": "code",
   "execution_count": 228,
   "metadata": {},
   "outputs": [
    {
     "data": {
      "text/plain": [
       "((65,), (65,))"
      ]
     },
     "execution_count": 228,
     "metadata": {},
     "output_type": "execute_result"
    }
   ],
   "source": [
    "xdata.shape, xdata.shape"
   ]
  },
  {
   "cell_type": "code",
   "execution_count": null,
   "metadata": {},
   "outputs": [],
   "source": []
  },
  {
   "cell_type": "code",
   "execution_count": 229,
   "metadata": {},
   "outputs": [],
   "source": [
    "popt, pcov = curve_fit(func, xdata, ydata)\n"
   ]
  },
  {
   "cell_type": "code",
   "execution_count": 230,
   "metadata": {},
   "outputs": [
    {
     "data": {
      "text/plain": [
       "(array([[1.19008311e-05, 2.71229144e-02],\n",
       "        [2.71229144e-02, 6.19122077e+01]]),\n",
       " array([   1.07425751, -117.86725904]))"
      ]
     },
     "execution_count": 230,
     "metadata": {},
     "output_type": "execute_result"
    }
   ],
   "source": [
    "pcov,popt"
   ]
  },
  {
   "cell_type": "code",
   "execution_count": 231,
   "metadata": {},
   "outputs": [
    {
     "data": {
      "text/plain": [
       "<matplotlib.legend.Legend at 0x1a2aeb5550>"
      ]
     },
     "execution_count": 231,
     "metadata": {},
     "output_type": "execute_result"
    },
    {
     "data": {
      "image/png": "[encoded data removed]",
      "text/plain": [
       "<Figure size 432x288 with 1 Axes>"
      ]
     },
     "metadata": {
      "needs_background": "light"
     },
     "output_type": "display_data"
    }
   ],
   "source": [
    "plot(xdata, ydata, 'b-', label='data')\n",
    "plot(xdata, func(xdata, *popt), 'r-',\n",
    "         label='fit: a=%5.3f, b=%5.3f' % tuple(popt))\n",
    "legend()"
   ]
  },
  {
   "cell_type": "code",
   "execution_count": 232,
   "metadata": {},
   "outputs": [
    {
     "data": {
      "text/plain": [
       "64"
      ]
     },
     "execution_count": 232,
     "metadata": {},
     "output_type": "execute_result"
    }
   ],
   "source": [
    "xdata[-1]"
   ]
  },
  {
   "cell_type": "code",
   "execution_count": 240,
   "metadata": {},
   "outputs": [
    {
     "data": {
      "text/plain": [
       "698633.2936739209"
      ]
     },
     "execution_count": 240,
     "metadata": {},
     "output_type": "execute_result"
    }
   ],
   "source": [
    "func(70,*popt)"
   ]
  }
 ],
 "metadata": {
  "kernelspec": {
   "display_name": "Python 3",
   "language": "python",
   "name": "python3"
  },
  "language_info": {
   "codemirror_mode": {
    "name": "ipython",
    "version": 3
   },
   "file_extension": ".py",
   "mimetype": "text/x-python",
   "name": "python",
   "nbconvert_exporter": "python",
   "pygments_lexer": "ipython3",
   "version": "3.6.9"
  }
 },
 "nbformat": 4,
 "nbformat_minor": 4
}
